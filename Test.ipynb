{
 "cells": [
  {
   "cell_type": "code",
   "execution_count": 4,
   "id": "62c5a4f2",
   "metadata": {},
   "outputs": [],
   "source": [
    "file1 = open(\"template.txt\",\"r\")\n",
    "template_text = file1.read()\n",
    "file1.close()"
   ]
  },
  {
   "cell_type": "code",
   "execution_count": 5,
   "id": "12bfa1f3",
   "metadata": {},
   "outputs": [
    {
     "name": "stdout",
     "output_type": "stream",
     "text": [
      "(48, 18)\n"
     ]
    }
   ],
   "source": [
    "import pandas\n",
    "df = pandas.read_excel('Test.xlsx', sheet_name='Sheet1')\n",
    "print(df.shape)"
   ]
  },
  {
   "cell_type": "code",
   "execution_count": 6,
   "id": "8feac6e9",
   "metadata": {},
   "outputs": [],
   "source": [
    "file2 = open(\"output.txt\",\"w+\")\n",
    "formatted_text = \"\"\n",
    "for index, row in df.iterrows():\n",
    "    formatted_text = template_text \n",
    "    \n",
    "    PAGE_NUMBER = row['PAGE_NUMBER']\n",
    "    QUESTION_NUMBER = row['QUESTION_NUMBER']\n",
    "    DIMENSION_QID = row['DIMENSION_QID']\n",
    "    \n",
    "    QUESTION_STATEMENT = row['QUESTION_STATEMENT']\n",
    "    QUESTION_DESCRIPTION = row['QUESTION_DESCRIPTION']\n",
    "    \n",
    "    LEVEL0 = row['LEVEL0']\n",
    "    LEVEL1 = row['LEVEL1']\n",
    "    LEVEL2 = row['LEVEL2']\n",
    "    LEVEL3 = row['LEVEL3']\n",
    "    LEVEL4 = row['LEVEL4']\n",
    "    LEVEL5 = row['LEVEL5']\n",
    "\n",
    "    PAGE_TITLE = row['PAGE_TITLE']\n",
    "    PAGE_DESC = row['PAGE_DESC']\n",
    " \n",
    "    formatted_text = formatted_text.replace('{__PAGE_NUMBER__}',PAGE_NUMBER) \\\n",
    "    .replace('{__QUESTION_NUMBER__}',QUESTION_NUMBER) \\\n",
    "    .replace('{__DIMENSION_QID__}',DIMENSION_QID) \\\n",
    "    .replace('{__QUESTION_STATEMENT__}',QUESTION_STATEMENT) \\\n",
    "    .replace('{__QUESTION_DESCRIPTION__}',QUESTION_DESCRIPTION) \\\n",
    "    .replace('{__LEVEL0__}',LEVEL0) \\\n",
    "    .replace('{__LEVEL1__}',LEVEL1) \\\n",
    "    .replace('{__LEVEL2__}',LEVEL2) \\\n",
    "    .replace('{__LEVEL3__}',LEVEL3) \\\n",
    "    .replace('{__LEVEL4__}',LEVEL4) \\\n",
    "    .replace('{__LEVEL5__}',LEVEL5) \\\n",
    "    .replace('{__PAGE_TITLE__}',PAGE_TITLE) \\\n",
    "    .replace('{__PAGE_DESC__}',PAGE_DESC) \n",
    "    \n",
    "    \n",
    "    write_text = formatted_text + \",\\n\\n\"\n",
    "    file2.write(write_text)\n",
    "\n",
    "\n",
    "file2.close()    "
   ]
  },
  {
   "cell_type": "code",
   "execution_count": null,
   "id": "90e61f58",
   "metadata": {},
   "outputs": [],
   "source": []
  }
 ],
 "metadata": {
  "kernelspec": {
   "display_name": "Python 3 (ipykernel)",
   "language": "python",
   "name": "python3"
  },
  "language_info": {
   "codemirror_mode": {
    "name": "ipython",
    "version": 3
   },
   "file_extension": ".py",
   "mimetype": "text/x-python",
   "name": "python",
   "nbconvert_exporter": "python",
   "pygments_lexer": "ipython3",
   "version": "3.9.5"
  }
 },
 "nbformat": 4,
 "nbformat_minor": 5
}
